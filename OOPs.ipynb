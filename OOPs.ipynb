{
 "cells": [
  {
   "cell_type": "code",
   "execution_count": 4,
   "id": "92010ad3",
   "metadata": {},
   "outputs": [],
   "source": [
    "class List_Parcer:\n",
    "    def __init__ (self, a):\n",
    "        self.a = a\n",
    "        \n",
    "    def parcer(self):\n",
    "        for i in self.a:\n",
    "            print(i)\n",
    "    \n",
    "    def reverse(self):\n",
    "        return self.a [::-1]"
   ]
  },
  {
   "cell_type": "code",
   "execution_count": 9,
   "id": "900d147a",
   "metadata": {},
   "outputs": [],
   "source": [
    "l = List_Parcer([1,2,3,4,5])"
   ]
  },
  {
   "cell_type": "code",
   "execution_count": 10,
   "id": "48b091e4",
   "metadata": {},
   "outputs": [
    {
     "data": {
      "text/plain": [
       "[1, 2, 3, 4, 5]"
      ]
     },
     "execution_count": 10,
     "metadata": {},
     "output_type": "execute_result"
    }
   ],
   "source": [
    "l.a"
   ]
  },
  {
   "cell_type": "code",
   "execution_count": 11,
   "id": "2a73faef",
   "metadata": {},
   "outputs": [
    {
     "name": "stdout",
     "output_type": "stream",
     "text": [
      "1\n",
      "2\n",
      "3\n",
      "4\n",
      "5\n"
     ]
    }
   ],
   "source": [
    "l.parcer()"
   ]
  },
  {
   "cell_type": "code",
   "execution_count": 13,
   "id": "5abad14d",
   "metadata": {},
   "outputs": [
    {
     "data": {
      "text/plain": [
       "[5, 4, 3, 2, 1]"
      ]
     },
     "execution_count": 13,
     "metadata": {},
     "output_type": "execute_result"
    }
   ],
   "source": [
    "l.reverse()"
   ]
  },
  {
   "cell_type": "code",
   "execution_count": 14,
   "id": "6bdf7073",
   "metadata": {},
   "outputs": [],
   "source": [
    "class chetan:\n",
    "    def __init__ (self, a ,b):\n",
    "        self.a = a\n",
    "        self.b = b\n",
    "        \n",
    "    def add(self):\n",
    "        if type(self.a) == list:\n",
    "            c = []\n",
    "            c.append(self.a)\n",
    "            return c\n",
    "        else:\n",
    "            print('')"
   ]
  },
  {
   "cell_type": "code",
   "execution_count": 15,
   "id": "3c23bab7",
   "metadata": {},
   "outputs": [],
   "source": [
    "j = chetan(1,2)"
   ]
  },
  {
   "cell_type": "code",
   "execution_count": 16,
   "id": "d90fde00",
   "metadata": {},
   "outputs": [
    {
     "data": {
      "text/plain": [
       "1"
      ]
     },
     "execution_count": 16,
     "metadata": {},
     "output_type": "execute_result"
    }
   ],
   "source": [
    "j.a"
   ]
  },
  {
   "cell_type": "code",
   "execution_count": 17,
   "id": "c1105783",
   "metadata": {},
   "outputs": [
    {
     "data": {
      "text/plain": [
       "2"
      ]
     },
     "execution_count": 17,
     "metadata": {},
     "output_type": "execute_result"
    }
   ],
   "source": [
    "j.b"
   ]
  },
  {
   "cell_type": "code",
   "execution_count": 19,
   "id": "78cabeba",
   "metadata": {},
   "outputs": [
    {
     "name": "stdout",
     "output_type": "stream",
     "text": [
      "\n"
     ]
    }
   ],
   "source": [
    "j.add()"
   ]
  },
  {
   "cell_type": "code",
   "execution_count": 20,
   "id": "54189880",
   "metadata": {},
   "outputs": [],
   "source": [
    "l =chetan([1,2,3,4],2)"
   ]
  },
  {
   "cell_type": "code",
   "execution_count": 21,
   "id": "c4ce7e01",
   "metadata": {},
   "outputs": [
    {
     "data": {
      "text/plain": [
       "[[1, 2, 3, 4]]"
      ]
     },
     "execution_count": 21,
     "metadata": {},
     "output_type": "execute_result"
    }
   ],
   "source": [
    "l.add()"
   ]
  },
  {
   "cell_type": "markdown",
   "id": "c47d60f9",
   "metadata": {},
   "source": [
    "# Inheritance"
   ]
  },
  {
   "cell_type": "code",
   "execution_count": 22,
   "id": "86bb31e2",
   "metadata": {},
   "outputs": [],
   "source": [
    "class xyz:\n",
    "    def __init__(self, a,b,c):\n",
    "        self.a = a\n",
    "        self.b = b\n",
    "        self.c = c\n",
    "    def test(self):\n",
    "        print('This my test in the class of xyz')\n",
    "        \n",
    "    def test2(self):\n",
    "        print('This my test2in the class of xyz')\n",
    "        \n",
    "class xyz1(xyz):\n",
    "    pass\n",
    "        "
   ]
  },
  {
   "cell_type": "code",
   "execution_count": 23,
   "id": "bd2bfb66",
   "metadata": {},
   "outputs": [],
   "source": [
    "g = xyz1(1,2,3)"
   ]
  },
  {
   "cell_type": "code",
   "execution_count": 25,
   "id": "20b2acf5",
   "metadata": {},
   "outputs": [
    {
     "name": "stdout",
     "output_type": "stream",
     "text": [
      "This my test2in the class of xyz\n"
     ]
    }
   ],
   "source": [
    "g.test2()"
   ]
  },
  {
   "cell_type": "code",
   "execution_count": 26,
   "id": "0cec7b43",
   "metadata": {},
   "outputs": [
    {
     "name": "stdout",
     "output_type": "stream",
     "text": [
      "This my test in the class of xyz\n"
     ]
    }
   ],
   "source": [
    "g.test()"
   ]
  },
  {
   "cell_type": "code",
   "execution_count": 27,
   "id": "b70a1f35",
   "metadata": {},
   "outputs": [],
   "source": [
    "class xyz:\n",
    "    def __init__(self, a,b,c):\n",
    "        self.a = a\n",
    "        self.b = b\n",
    "        self.c = c\n",
    "    def test(self):\n",
    "        print('This my test in the class of xyz')\n",
    "        \n",
    "    def test2(self):\n",
    "        print('This my test2in the class of xyz')\n",
    "        \n",
    "class xyz1(xyz):\n",
    "    def test3(self):\n",
    "        print('This is my test3 in the class of xyz1')\n",
    "        "
   ]
  },
  {
   "cell_type": "code",
   "execution_count": 29,
   "id": "7ece38d7",
   "metadata": {},
   "outputs": [],
   "source": [
    "k = xyz1(1,2,3)"
   ]
  },
  {
   "cell_type": "code",
   "execution_count": 30,
   "id": "65f761f4",
   "metadata": {},
   "outputs": [
    {
     "name": "stdout",
     "output_type": "stream",
     "text": [
      "This is my test3 in the class of xyz1\n"
     ]
    }
   ],
   "source": [
    "k.test3()"
   ]
  },
  {
   "cell_type": "code",
   "execution_count": null,
   "id": "c6239ece",
   "metadata": {},
   "outputs": [],
   "source": []
  }
 ],
 "metadata": {
  "kernelspec": {
   "display_name": "Python 3 (ipykernel)",
   "language": "python",
   "name": "python3"
  },
  "language_info": {
   "codemirror_mode": {
    "name": "ipython",
    "version": 3
   },
   "file_extension": ".py",
   "mimetype": "text/x-python",
   "name": "python",
   "nbconvert_exporter": "python",
   "pygments_lexer": "ipython3",
   "version": "3.11.5"
  }
 },
 "nbformat": 4,
 "nbformat_minor": 5
}
