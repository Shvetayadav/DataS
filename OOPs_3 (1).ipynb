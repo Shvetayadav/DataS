{
 "cells": [
  {
   "cell_type": "markdown",
   "id": "eb803d99",
   "metadata": {},
   "source": [
    "# Polymorphism"
   ]
  },
  {
   "cell_type": "code",
   "execution_count": 2,
   "id": "32702b35",
   "metadata": {},
   "outputs": [],
   "source": [
    "class Social_Media:\n",
    "    def Share_stories(self):\n",
    "        print('Story is uploded')\n",
    "        \n",
    "    def upload_pic(self):\n",
    "        print('Picture is uploded')\n",
    "class Facebook(Social_Media):\n",
    "    def Share_stories(self):\n",
    "        print('Story is uploded on Facebook')\n",
    "        \n",
    "class Instagram(Social_Media):\n",
    "    def Share_stories(self):\n",
    "        print('Story is uploded on Instagram')"
   ]
  },
  {
   "cell_type": "code",
   "execution_count": 3,
   "id": "64615f09",
   "metadata": {},
   "outputs": [],
   "source": [
    "f = Facebook()"
   ]
  },
  {
   "cell_type": "code",
   "execution_count": 4,
   "id": "2e15e868",
   "metadata": {},
   "outputs": [
    {
     "name": "stdout",
     "output_type": "stream",
     "text": [
      "Story is uploded on Facebook\n"
     ]
    }
   ],
   "source": [
    "f.Share_stories()"
   ]
  },
  {
   "cell_type": "code",
   "execution_count": 5,
   "id": "87b9cc2a",
   "metadata": {},
   "outputs": [
    {
     "name": "stdout",
     "output_type": "stream",
     "text": [
      "Picture is uploded\n"
     ]
    }
   ],
   "source": [
    "f.upload_pic()"
   ]
  },
  {
   "cell_type": "code",
   "execution_count": 6,
   "id": "b1c21f1e",
   "metadata": {},
   "outputs": [],
   "source": [
    "i = Instagram()"
   ]
  },
  {
   "cell_type": "code",
   "execution_count": 7,
   "id": "1392e280",
   "metadata": {},
   "outputs": [
    {
     "name": "stdout",
     "output_type": "stream",
     "text": [
      "Story is uploded on Instagram\n"
     ]
    }
   ],
   "source": [
    "i.Share_stories()"
   ]
  },
  {
   "cell_type": "code",
   "execution_count": 8,
   "id": "b58d7ad2",
   "metadata": {},
   "outputs": [
    {
     "name": "stdout",
     "output_type": "stream",
     "text": [
      "Picture is uploded\n"
     ]
    }
   ],
   "source": [
    "i.upload_pic()"
   ]
  },
  {
   "cell_type": "code",
   "execution_count": 9,
   "id": "05e634f8",
   "metadata": {},
   "outputs": [],
   "source": [
    "class Animal:\n",
    "    def make_sound(self):\n",
    "        print('Animal makes sound')\n",
    "class Dog(Animal):\n",
    "    def make_sound(self):\n",
    "        print('Dog Barks')\n",
    "class Cat(Animal):\n",
    "    def make_sound(self):\n",
    "        print('Cat mewos')"
   ]
  },
  {
   "cell_type": "code",
   "execution_count": 10,
   "id": "d5b13a03",
   "metadata": {},
   "outputs": [],
   "source": [
    "dog = Dog()"
   ]
  },
  {
   "cell_type": "code",
   "execution_count": 11,
   "id": "be63109a",
   "metadata": {},
   "outputs": [
    {
     "name": "stdout",
     "output_type": "stream",
     "text": [
      "Dog Barks\n"
     ]
    }
   ],
   "source": [
    "dog.make_sound()"
   ]
  },
  {
   "cell_type": "code",
   "execution_count": 12,
   "id": "0c826675",
   "metadata": {},
   "outputs": [],
   "source": [
    "cat = Cat()"
   ]
  },
  {
   "cell_type": "code",
   "execution_count": 13,
   "id": "aa0b573b",
   "metadata": {},
   "outputs": [
    {
     "name": "stdout",
     "output_type": "stream",
     "text": [
      "Cat mewos\n"
     ]
    }
   ],
   "source": [
    "cat.make_sound()"
   ]
  },
  {
   "cell_type": "code",
   "execution_count": 14,
   "id": "8fe80c78",
   "metadata": {},
   "outputs": [],
   "source": [
    "elephent = Animal()"
   ]
  },
  {
   "cell_type": "code",
   "execution_count": 15,
   "id": "738b5415",
   "metadata": {},
   "outputs": [
    {
     "name": "stdout",
     "output_type": "stream",
     "text": [
      "Animal makes sound\n"
     ]
    }
   ],
   "source": [
    "elephent.make_sound()"
   ]
  },
  {
   "cell_type": "code",
   "execution_count": 16,
   "id": "94b621a6",
   "metadata": {},
   "outputs": [],
   "source": [
    "class Shape:\n",
    "    def area(self):\n",
    "        pass\n",
    "class Rectangle(Shape):\n",
    "    def __init__(self,width, height):\n",
    "        self.width = width\n",
    "        self.height = height\n",
    "    def area(self):\n",
    "        return self.width * self.height\n",
    "class Circle(Shape):\n",
    "    def __init__(self,redius):\n",
    "        self.redius = redius\n",
    "    def area(self):\n",
    "        return 3.14 * self.redius"
   ]
  },
  {
   "cell_type": "code",
   "execution_count": 17,
   "id": "2cfea56b",
   "metadata": {},
   "outputs": [],
   "source": [
    "rect = Rectangle(5,4)"
   ]
  },
  {
   "cell_type": "code",
   "execution_count": 18,
   "id": "281d6899",
   "metadata": {},
   "outputs": [
    {
     "data": {
      "text/plain": [
       "20"
      ]
     },
     "execution_count": 18,
     "metadata": {},
     "output_type": "execute_result"
    }
   ],
   "source": [
    "rect.area()"
   ]
  },
  {
   "cell_type": "code",
   "execution_count": 20,
   "id": "50c05acc",
   "metadata": {},
   "outputs": [
    {
     "data": {
      "text/plain": [
       "4"
      ]
     },
     "execution_count": 20,
     "metadata": {},
     "output_type": "execute_result"
    }
   ],
   "source": [
    "rect.height"
   ]
  },
  {
   "cell_type": "code",
   "execution_count": 21,
   "id": "77851b24",
   "metadata": {},
   "outputs": [
    {
     "data": {
      "text/plain": [
       "5"
      ]
     },
     "execution_count": 21,
     "metadata": {},
     "output_type": "execute_result"
    }
   ],
   "source": [
    "rect.width"
   ]
  },
  {
   "cell_type": "code",
   "execution_count": 22,
   "id": "52b2e18f",
   "metadata": {},
   "outputs": [],
   "source": [
    "circle = Circle(5)"
   ]
  },
  {
   "cell_type": "code",
   "execution_count": 23,
   "id": "1fd88957",
   "metadata": {},
   "outputs": [
    {
     "data": {
      "text/plain": [
       "15.700000000000001"
      ]
     },
     "execution_count": 23,
     "metadata": {},
     "output_type": "execute_result"
    }
   ],
   "source": [
    "circle.area()"
   ]
  },
  {
   "cell_type": "code",
   "execution_count": 24,
   "id": "5b01c930",
   "metadata": {},
   "outputs": [
    {
     "data": {
      "text/plain": [
       "5"
      ]
     },
     "execution_count": 24,
     "metadata": {},
     "output_type": "execute_result"
    }
   ],
   "source": [
    "circle.redius"
   ]
  },
  {
   "cell_type": "code",
   "execution_count": 25,
   "id": "80a354f2",
   "metadata": {},
   "outputs": [],
   "source": [
    "# Public, Protected, Private"
   ]
  },
  {
   "cell_type": "code",
   "execution_count": 26,
   "id": "1ef627e5",
   "metadata": {},
   "outputs": [],
   "source": [
    "class test:\n",
    "    def __init__(self,name, Age,Surname):\n",
    "        self.name = name # Public\n",
    "        self._Age = Age  # Protected\n",
    "        self.__Surname = Surname #Private"
   ]
  },
  {
   "cell_type": "code",
   "execution_count": 27,
   "id": "48bb32cc",
   "metadata": {},
   "outputs": [],
   "source": [
    "m = test('Schin',35,'Dhoni')"
   ]
  },
  {
   "cell_type": "code",
   "execution_count": 28,
   "id": "f6d00ced",
   "metadata": {},
   "outputs": [
    {
     "data": {
      "text/plain": [
       "'Schin'"
      ]
     },
     "execution_count": 28,
     "metadata": {},
     "output_type": "execute_result"
    }
   ],
   "source": [
    "m.name"
   ]
  },
  {
   "cell_type": "code",
   "execution_count": 29,
   "id": "965e1afc",
   "metadata": {},
   "outputs": [
    {
     "data": {
      "text/plain": [
       "35"
      ]
     },
     "execution_count": 29,
     "metadata": {},
     "output_type": "execute_result"
    }
   ],
   "source": [
    "m._Age"
   ]
  },
  {
   "cell_type": "code",
   "execution_count": 30,
   "id": "9b193f25",
   "metadata": {},
   "outputs": [
    {
     "data": {
      "text/plain": [
       "'Dhoni'"
      ]
     },
     "execution_count": 30,
     "metadata": {},
     "output_type": "execute_result"
    }
   ],
   "source": [
    "m._test__Surname"
   ]
  },
  {
   "cell_type": "code",
   "execution_count": 31,
   "id": "ab530cdd",
   "metadata": {},
   "outputs": [],
   "source": [
    "class test:\n",
    "    def __init__(self,name, Age,Surname):\n",
    "        self.name = name # Public\n",
    "        self._Age = Age  # Protected\n",
    "        self.__Surname = Surname #Private\n",
    "class test2(test):\n",
    "    def empty(self):\n",
    "        pass"
   ]
  },
  {
   "cell_type": "code",
   "execution_count": 33,
   "id": "454caed2",
   "metadata": {},
   "outputs": [],
   "source": [
    "g = test2('Ms',25,'Dhoni')"
   ]
  },
  {
   "cell_type": "code",
   "execution_count": 34,
   "id": "c9ed26b6",
   "metadata": {},
   "outputs": [
    {
     "data": {
      "text/plain": [
       "'Ms'"
      ]
     },
     "execution_count": 34,
     "metadata": {},
     "output_type": "execute_result"
    }
   ],
   "source": [
    "g.name"
   ]
  },
  {
   "cell_type": "code",
   "execution_count": 35,
   "id": "ee1aeae0",
   "metadata": {},
   "outputs": [
    {
     "data": {
      "text/plain": [
       "25"
      ]
     },
     "execution_count": 35,
     "metadata": {},
     "output_type": "execute_result"
    }
   ],
   "source": [
    "g._Age"
   ]
  },
  {
   "cell_type": "code",
   "execution_count": 36,
   "id": "f8932d78",
   "metadata": {},
   "outputs": [
    {
     "data": {
      "text/plain": [
       "'Dhoni'"
      ]
     },
     "execution_count": 36,
     "metadata": {},
     "output_type": "execute_result"
    }
   ],
   "source": [
    "g._test__Surname"
   ]
  },
  {
   "cell_type": "code",
   "execution_count": null,
   "id": "d9211e9f",
   "metadata": {},
   "outputs": [],
   "source": []
  }
 ],
 "metadata": {
  "kernelspec": {
   "display_name": "Python 3 (ipykernel)",
   "language": "python",
   "name": "python3"
  },
  "language_info": {
   "codemirror_mode": {
    "name": "ipython",
    "version": 3
   },
   "file_extension": ".py",
   "mimetype": "text/x-python",
   "name": "python",
   "nbconvert_exporter": "python",
   "pygments_lexer": "ipython3",
   "version": "3.11.5"
  }
 },
 "nbformat": 4,
 "nbformat_minor": 5
}
