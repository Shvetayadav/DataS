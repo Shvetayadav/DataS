{
 "cells": [
  {
   "cell_type": "markdown",
   "id": "3b4a8ee2",
   "metadata": {},
   "source": [
    "# If Else Conditions"
   ]
  },
  {
   "cell_type": "code",
   "execution_count": 1,
   "id": "856e5652",
   "metadata": {},
   "outputs": [
    {
     "name": "stdout",
     "output_type": "stream",
     "text": [
      "Yes\n"
     ]
    }
   ],
   "source": [
    "if 10 < 20:\n",
    "    print('Yes')\n",
    "else:\n",
    "    print('No')"
   ]
  },
  {
   "cell_type": "code",
   "execution_count": 2,
   "id": "d715fbed",
   "metadata": {},
   "outputs": [
    {
     "name": "stdout",
     "output_type": "stream",
     "text": [
      "No\n"
     ]
    }
   ],
   "source": [
    "if 30 < 20:\n",
    "    print('Yes')\n",
    "else:\n",
    "    print('No')"
   ]
  },
  {
   "cell_type": "code",
   "execution_count": 3,
   "id": "fe2d820f",
   "metadata": {},
   "outputs": [],
   "source": [
    "a = 8"
   ]
  },
  {
   "cell_type": "code",
   "execution_count": 4,
   "id": "a7709d9d",
   "metadata": {},
   "outputs": [
    {
     "name": "stdout",
     "output_type": "stream",
     "text": [
      "Not greater\n"
     ]
    }
   ],
   "source": [
    "if a > 10:\n",
    "    print(\"Greater\")\n",
    "else:\n",
    "    print('Not greater')"
   ]
  },
  {
   "cell_type": "code",
   "execution_count": 5,
   "id": "30766056",
   "metadata": {},
   "outputs": [
    {
     "name": "stdout",
     "output_type": "stream",
     "text": [
      "You are pass\n"
     ]
    }
   ],
   "source": [
    "marks = 59\n",
    "if marks > 35:\n",
    "    print('You are pass')\n",
    "else:\n",
    "    print('You are fail')"
   ]
  },
  {
   "cell_type": "code",
   "execution_count": 7,
   "id": "9ca6429e",
   "metadata": {},
   "outputs": [
    {
     "name": "stdout",
     "output_type": "stream",
     "text": [
      "You are pass\n"
     ]
    }
   ],
   "source": [
    "marks = 35\n",
    "if marks >= 35:\n",
    "    print('You are pass')\n",
    "else:\n",
    "    print('You are fail')"
   ]
  },
  {
   "cell_type": "code",
   "execution_count": 8,
   "id": "10cc0262",
   "metadata": {},
   "outputs": [
    {
     "name": "stdout",
     "output_type": "stream",
     "text": [
      "Enter your marks36\n",
      "You are pass\n"
     ]
    }
   ],
   "source": [
    "marks = int(input('Enter your marks'))\n",
    "if marks >= 35:\n",
    "    print('You are pass')\n",
    "else:\n",
    "    print('You are fail')"
   ]
  },
  {
   "cell_type": "code",
   "execution_count": null,
   "id": "4b0e2f99",
   "metadata": {},
   "outputs": [],
   "source": [
    "# User input for study_hour = \n",
    "# Study hour < 4;--> fail"
   ]
  },
  {
   "cell_type": "code",
   "execution_count": 10,
   "id": "e63505be",
   "metadata": {},
   "outputs": [
    {
     "name": "stdout",
     "output_type": "stream",
     "text": [
      "Enter your study Hour2\n",
      "Fail\n"
     ]
    }
   ],
   "source": [
    "study_hour = int(input('Enter your study Hour'))\n",
    "if study_hour < 4:\n",
    "    print('Fail')\n",
    "    \n",
    "else:\n",
    "    print('Pass')"
   ]
  },
  {
   "cell_type": "code",
   "execution_count": 13,
   "id": "4ba39d26",
   "metadata": {},
   "outputs": [
    {
     "name": "stdout",
     "output_type": "stream",
     "text": [
      "How many hours you are studing?8\n",
      "It is hard to take transition\n"
     ]
    }
   ],
   "source": [
    "study_hour = int(input('How many hours you are studing?'))\n",
    "if study_hour < 1:\n",
    "    print('It may take 8-9 months to take transition in data science')\n",
    "    \n",
    "elif study_hour < 4:\n",
    "    print('It may take 5-6 months to take transition in data science')\n",
    "\n",
    "else:\n",
    "    print('It is hard to take transition')"
   ]
  },
  {
   "cell_type": "code",
   "execution_count": 14,
   "id": "40608a13",
   "metadata": {},
   "outputs": [],
   "source": [
    "# HOME WORK\n",
    "# marks --> input\n",
    "#if marks are greatr than 35 --> 'C Grade'\n",
    "#if marks are greater than 50 --> 'B grade'\n",
    "# if marks are grater than 90 --> 'A grade'\n",
    "# otherwise --> You are fail"
   ]
  },
  {
   "cell_type": "code",
   "execution_count": 15,
   "id": "2cc9fda5",
   "metadata": {},
   "outputs": [
    {
     "name": "stdout",
     "output_type": "stream",
     "text": [
      "87\n",
      "C Grade\n"
     ]
    }
   ],
   "source": [
    "marks = int(input())\n",
    "if marks >= 35:\n",
    "    print('C Grade')\n",
    "elif marks >=50:\n",
    "    print('B Grade')\n",
    "elif marks >= 90:\n",
    "    print('A grade')\n",
    "else:\n",
    "    print('You are fail')"
   ]
  },
  {
   "cell_type": "code",
   "execution_count": 17,
   "id": "e335ed3f",
   "metadata": {},
   "outputs": [
    {
     "name": "stdout",
     "output_type": "stream",
     "text": [
      "342789\n",
      "Check your marks again and rewrte it\n"
     ]
    }
   ],
   "source": [
    "marks = int(input())\n",
    "\n",
    "if marks < 35:\n",
    "    print('You are fail')\n",
    "    \n",
    "elif marks <50:\n",
    "    print('C grade')\n",
    "elif marks < 90:\n",
    "    print('B Grade')\n",
    "elif marks < 100:\n",
    "    print('A grade')\n",
    "else:\n",
    "    print('Check your marks again and rewrte it')\n",
    "    "
   ]
  },
  {
   "cell_type": "code",
   "execution_count": 19,
   "id": "370dbdb8",
   "metadata": {},
   "outputs": [
    {
     "name": "stdout",
     "output_type": "stream",
     "text": [
      "56\n",
      "My marks are between 51 to 80\n"
     ]
    }
   ],
   "source": [
    "marks = int(input())\n",
    "\n",
    "if marks >= 35 and marks <= 50:\n",
    "        print('My marks are between 35 to 50')\n",
    "        \n",
    "elif marks >= 51 and marks <= 80:\n",
    "    print('My marks are between 51 to 80')\n",
    "    \n",
    "elif marks >= 81 and marks <= 100:\n",
    "    print('My marks are between 81 to 100')\n",
    "    \n",
    "elif marks < 35:\n",
    "    print('You are fail')\n",
    "    \n",
    "else:\n",
    "    print('Wrong marks, please check your marks ')"
   ]
  },
  {
   "cell_type": "code",
   "execution_count": 20,
   "id": "2ef27986",
   "metadata": {},
   "outputs": [
    {
     "name": "stdout",
     "output_type": "stream",
     "text": [
      "Enter your study hours43\n",
      "Take a rest\n"
     ]
    }
   ],
   "source": [
    "study_hours = int(input('Enter your study hours'))\n",
    "\n",
    "if study_hours <=1:\n",
    "    print('It may take long time for transition in data science')\n",
    "    \n",
    "elif study_hours <= 4:\n",
    "    print('It may take 4-5 months')\n",
    "    \n",
    "elif study_hours <= 10:\n",
    "    print('It may happen early')\n",
    "else:\n",
    "    print('Take a rest')\n",
    "    "
   ]
  },
  {
   "cell_type": "code",
   "execution_count": 23,
   "id": "b144bf9c",
   "metadata": {},
   "outputs": [
    {
     "name": "stdout",
     "output_type": "stream",
     "text": [
      "FJ100\n",
      "You have discount of 100$ on Full stack Java\n"
     ]
    }
   ],
   "source": [
    "coupon_code = input()\n",
    "\n",
    "if coupon_code == 'DS100':\n",
    "    print('You have discount of 100$ on data science')\n",
    "elif coupon_code == 'FJ100':\n",
    "    print('You have discount of 100$ on Full stack Java')\n",
    "else:\n",
    "    print('Please write valid coupon code')"
   ]
  },
  {
   "cell_type": "code",
   "execution_count": 26,
   "id": "a4e71417",
   "metadata": {},
   "outputs": [
    {
     "name": "stdout",
     "output_type": "stream",
     "text": [
      "Please enter your course namePython\n",
      "Enter which topic you have to learnData analysis\n",
      "We dont have that course in python\n"
     ]
    }
   ],
   "source": [
    "course = input('Please enter your course name')\n",
    "topic = input('Enter which topic you have to learn')\n",
    "\n",
    "if course == 'Python':\n",
    "    if topic == 'data science':\n",
    "        print('Yes you can learn data science in python')\n",
    "        \n",
    "    else:\n",
    "        print('We dont have that course in python')\n",
    "        \n",
    "elif course == 'Java':\n",
    "    if topic == 'Website':\n",
    "        print('Website is avilable in Java')\n",
    "        \n",
    "    else:\n",
    "        print('We dont have that course in Java')\n",
    "        \n",
    "else:\n",
    "    print('Plese select valid course')"
   ]
  },
  {
   "cell_type": "code",
   "execution_count": null,
   "id": "84dc34c0",
   "metadata": {},
   "outputs": [],
   "source": []
  }
 ],
 "metadata": {
  "kernelspec": {
   "display_name": "Python 3 (ipykernel)",
   "language": "python",
   "name": "python3"
  },
  "language_info": {
   "codemirror_mode": {
    "name": "ipython",
    "version": 3
   },
   "file_extension": ".py",
   "mimetype": "text/x-python",
   "name": "python",
   "nbconvert_exporter": "python",
   "pygments_lexer": "ipython3",
   "version": "3.11.5"
  }
 },
 "nbformat": 4,
 "nbformat_minor": 5
}
