{
 "cells": [
  {
   "cell_type": "markdown",
   "id": "3b4a8ee2",
   "metadata": {},
   "source": [
    "# If Else Conditions"
   ]
  },
  {
   "cell_type": "code",
   "execution_count": 1,
   "id": "856e5652",
   "metadata": {},
   "outputs": [
    {
     "name": "stdout",
     "output_type": "stream",
     "text": [
      "Yes\n"
     ]
    }
   ],
   "source": [
    "if 10 < 20:\n",
    "    print('Yes')\n",
    "else:\n",
    "    print('No')"
   ]
  },
  {
   "cell_type": "code",
   "execution_count": 2,
   "id": "d715fbed",
   "metadata": {},
   "outputs": [
    {
     "name": "stdout",
     "output_type": "stream",
     "text": [
      "No\n"
     ]
    }
   ],
   "source": [
    "if 30 < 20:\n",
    "    print('Yes')\n",
    "else:\n",
    "    print('No')"
   ]
  },
  {
   "cell_type": "code",
   "execution_count": 3,
   "id": "fe2d820f",
   "metadata": {},
   "outputs": [],
   "source": [
    "a = 8"
   ]
  },
  {
   "cell_type": "code",
   "execution_count": 4,
   "id": "a7709d9d",
   "metadata": {},
   "outputs": [
    {
     "name": "stdout",
     "output_type": "stream",
     "text": [
      "Not greater\n"
     ]
    }
   ],
   "source": [
    "if a > 10:\n",
    "    print(\"Greater\")\n",
    "else:\n",
    "    print('Not greater')"
   ]
  },
  {
   "cell_type": "code",
   "execution_count": 5,
   "id": "30766056",
   "metadata": {},
   "outputs": [
    {
     "name": "stdout",
     "output_type": "stream",
     "text": [
      "You are pass\n"
     ]
    }
   ],
   "source": [
    "marks = 59\n",
    "if marks > 35:\n",
    "    print('You are pass')\n",
    "else:\n",
    "    print('You are fail')"
   ]
  },
  {
   "cell_type": "code",
   "execution_count": 7,
   "id": "9ca6429e",
   "metadata": {},
   "outputs": [
    {
     "name": "stdout",
     "output_type": "stream",
     "text": [
      "You are pass\n"
     ]
    }
   ],
   "source": [
    "marks = 35\n",
    "if marks >= 35:\n",
    "    print('You are pass')\n",
    "else:\n",
    "    print('You are fail')"
   ]
  },
  {
   "cell_type": "code",
   "execution_count": 8,
   "id": "10cc0262",
   "metadata": {},
   "outputs": [
    {
     "name": "stdout",
     "output_type": "stream",
     "text": [
      "Enter your marks36\n",
      "You are pass\n"
     ]
    }
   ],
   "source": [
    "marks = int(input('Enter your marks'))\n",
    "if marks >= 35:\n",
    "    print('You are pass')\n",
    "else:\n",
    "    print('You are fail')"
   ]
  },
  {
   "cell_type": "code",
   "execution_count": null,
   "id": "4b0e2f99",
   "metadata": {},
   "outputs": [],
   "source": [
    "# User input for study_hour = \n",
    "# Study hour < 4;--> fail"
   ]
  },
  {
   "cell_type": "code",
   "execution_count": 10,
   "id": "e63505be",
   "metadata": {},
   "outputs": [
    {
     "name": "stdout",
     "output_type": "stream",
     "text": [
      "Enter your study Hour2\n",
      "Fail\n"
     ]
    }
   ],
   "source": [
    "study_hour = int(input('Enter your study Hour'))\n",
    "if study_hour < 4:\n",
    "    print('Fail')\n",
    "    \n",
    "else:\n",
    "    print('Pass')"
   ]
  },
  {
   "cell_type": "code",
   "execution_count": 13,
   "id": "4ba39d26",
   "metadata": {},
   "outputs": [
    {
     "name": "stdout",
     "output_type": "stream",
     "text": [
      "How many hours you are studing?8\n",
      "It is hard to take transition\n"
     ]
    }
   ],
   "source": [
    "study_hour = int(input('How many hours you are studing?'))\n",
    "if study_hour < 1:\n",
    "    print('It may take 8-9 months to take transition in data science')\n",
    "    \n",
    "elif study_hour < 4:\n",
    "    print('It may take 5-6 months to take transition in data science')\n",
    "\n",
    "else:\n",
    "    print('It is hard to take transition')"
   ]
  },
  {
   "cell_type": "code",
   "execution_count": 14,
   "id": "40608a13",
   "metadata": {},
   "outputs": [],
   "source": [
    "# HOME WORK\n",
    "# marks --> input\n",
    "#if marks are greatr than 35 --> 'C Grade'\n",
    "#if marks are greater than 50 --> 'B grade'\n",
    "# if marks are grater than 90 --> 'A grade'\n",
    "# otherwise --> You are fail"
   ]
  },
  {
   "cell_type": "code",
   "execution_count": null,
   "id": "2cc9fda5",
   "metadata": {},
   "outputs": [],
   "source": []
  }
 ],
 "metadata": {
  "kernelspec": {
   "display_name": "Python 3 (ipykernel)",
   "language": "python",
   "name": "python3"
  },
  "language_info": {
   "codemirror_mode": {
    "name": "ipython",
    "version": 3
   },
   "file_extension": ".py",
   "mimetype": "text/x-python",
   "name": "python",
   "nbconvert_exporter": "python",
   "pygments_lexer": "ipython3",
   "version": "3.11.5"
  }
 },
 "nbformat": 4,
 "nbformat_minor": 5
}
