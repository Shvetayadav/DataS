{
 "cells": [
  {
   "cell_type": "code",
   "execution_count": 1,
   "id": "e6c704d5",
   "metadata": {},
   "outputs": [
    {
     "name": "stdout",
     "output_type": "stream",
     "text": [
      " Volume in drive C has no label.\n",
      " Volume Serial Number is B294-EB73\n",
      "\n",
      " Directory of C:\\Users\\Admin\\Downloads\\601\\Advanced Python\n",
      "\n",
      "02/02/2024  11:30 AM    <DIR>          .\n",
      "02/02/2024  11:30 AM    <DIR>          ..\n",
      "02/02/2024  11:27 AM    <DIR>          .ipynb_checkpoints\n",
      "02/02/2024  11:30 AM               603 file handling.ipynb\n",
      "               1 File(s)            603 bytes\n",
      "               3 Dir(s)  29,272,604,672 bytes free\n"
     ]
    }
   ],
   "source": [
    "%ls"
   ]
  },
  {
   "cell_type": "code",
   "execution_count": 2,
   "id": "222b6139",
   "metadata": {},
   "outputs": [],
   "source": [
    "f = open('text1', 'w')"
   ]
  },
  {
   "cell_type": "code",
   "execution_count": 3,
   "id": "5c54768a",
   "metadata": {},
   "outputs": [
    {
     "data": {
      "text/plain": [
       "37"
      ]
     },
     "execution_count": 3,
     "metadata": {},
     "output_type": "execute_result"
    }
   ],
   "source": [
    "f.write('This is my first python advance class')"
   ]
  },
  {
   "cell_type": "code",
   "execution_count": 4,
   "id": "a7a079b0",
   "metadata": {},
   "outputs": [],
   "source": [
    "f.close()"
   ]
  },
  {
   "cell_type": "code",
   "execution_count": 5,
   "id": "dbf7359b",
   "metadata": {},
   "outputs": [],
   "source": [
    "f = open('text1', 'r')"
   ]
  },
  {
   "cell_type": "code",
   "execution_count": 6,
   "id": "a4751824",
   "metadata": {},
   "outputs": [
    {
     "data": {
      "text/plain": [
       "'This is my first python advance class'"
      ]
     },
     "execution_count": 6,
     "metadata": {},
     "output_type": "execute_result"
    }
   ],
   "source": [
    "f.read()"
   ]
  },
  {
   "cell_type": "code",
   "execution_count": 7,
   "id": "c7274c0e",
   "metadata": {},
   "outputs": [
    {
     "data": {
      "text/plain": [
       "''"
      ]
     },
     "execution_count": 7,
     "metadata": {},
     "output_type": "execute_result"
    }
   ],
   "source": [
    "f.read()"
   ]
  },
  {
   "cell_type": "code",
   "execution_count": 8,
   "id": "7f7dbbca",
   "metadata": {},
   "outputs": [
    {
     "data": {
      "text/plain": [
       "0"
      ]
     },
     "execution_count": 8,
     "metadata": {},
     "output_type": "execute_result"
    }
   ],
   "source": [
    "f.seek(0)"
   ]
  },
  {
   "cell_type": "code",
   "execution_count": 9,
   "id": "42db4965",
   "metadata": {},
   "outputs": [
    {
     "data": {
      "text/plain": [
       "'This is my first python advance class'"
      ]
     },
     "execution_count": 9,
     "metadata": {},
     "output_type": "execute_result"
    }
   ],
   "source": [
    "f.read()"
   ]
  },
  {
   "cell_type": "code",
   "execution_count": 10,
   "id": "841fd302",
   "metadata": {},
   "outputs": [
    {
     "data": {
      "text/plain": [
       "4"
      ]
     },
     "execution_count": 10,
     "metadata": {},
     "output_type": "execute_result"
    }
   ],
   "source": [
    "f.seek(4)"
   ]
  },
  {
   "cell_type": "code",
   "execution_count": 11,
   "id": "7559455b",
   "metadata": {},
   "outputs": [
    {
     "data": {
      "text/plain": [
       "' is my first python advance class'"
      ]
     },
     "execution_count": 11,
     "metadata": {},
     "output_type": "execute_result"
    }
   ],
   "source": [
    "f.read()"
   ]
  },
  {
   "cell_type": "code",
   "execution_count": 12,
   "id": "f1d070a3",
   "metadata": {},
   "outputs": [],
   "source": [
    "f.close()"
   ]
  },
  {
   "cell_type": "code",
   "execution_count": 13,
   "id": "a5dc226a",
   "metadata": {},
   "outputs": [
    {
     "name": "stdout",
     "output_type": "stream",
     "text": [
      " Volume in drive C has no label.\n",
      " Volume Serial Number is B294-EB73\n",
      "\n",
      " Directory of C:\\Users\\Admin\\Downloads\\601\\Advanced Python\n",
      "\n",
      "02/02/2024  11:40 AM    <DIR>          .\n",
      "02/02/2024  11:40 AM    <DIR>          ..\n",
      "02/02/2024  11:27 AM    <DIR>          .ipynb_checkpoints\n",
      "02/02/2024  11:40 AM             4,382 file handling.ipynb\n",
      "02/02/2024  11:36 AM                37 text1\n",
      "               2 File(s)          4,419 bytes\n",
      "               3 Dir(s)  29,280,808,960 bytes free\n"
     ]
    }
   ],
   "source": [
    "%ls"
   ]
  },
  {
   "cell_type": "code",
   "execution_count": 15,
   "id": "82230e53",
   "metadata": {},
   "outputs": [],
   "source": [
    "g = open('text2', 'w' )"
   ]
  },
  {
   "cell_type": "code",
   "execution_count": 16,
   "id": "612dd98d",
   "metadata": {},
   "outputs": [
    {
     "data": {
      "text/plain": [
       "21"
      ]
     },
     "execution_count": 16,
     "metadata": {},
     "output_type": "execute_result"
    }
   ],
   "source": [
    "g.write('We created text2 file')"
   ]
  },
  {
   "cell_type": "code",
   "execution_count": 17,
   "id": "29c725f2",
   "metadata": {},
   "outputs": [],
   "source": [
    "f.close()"
   ]
  },
  {
   "cell_type": "code",
   "execution_count": 18,
   "id": "b6c4cf11",
   "metadata": {},
   "outputs": [],
   "source": [
    "g = open('text2', 'r+')"
   ]
  },
  {
   "cell_type": "code",
   "execution_count": 19,
   "id": "d259812b",
   "metadata": {},
   "outputs": [
    {
     "data": {
      "text/plain": [
       "'We created text2 file'"
      ]
     },
     "execution_count": 19,
     "metadata": {},
     "output_type": "execute_result"
    }
   ],
   "source": [
    "g.read()"
   ]
  },
  {
   "cell_type": "code",
   "execution_count": 20,
   "id": "b2a85427",
   "metadata": {},
   "outputs": [
    {
     "data": {
      "text/plain": [
       "22"
      ]
     },
     "execution_count": 20,
     "metadata": {},
     "output_type": "execute_result"
    }
   ],
   "source": [
    "g.write('This is my second sen.')"
   ]
  },
  {
   "cell_type": "code",
   "execution_count": 21,
   "id": "7bd1e0fa",
   "metadata": {},
   "outputs": [
    {
     "data": {
      "text/plain": [
       "''"
      ]
     },
     "execution_count": 21,
     "metadata": {},
     "output_type": "execute_result"
    }
   ],
   "source": [
    "g.read()"
   ]
  },
  {
   "cell_type": "code",
   "execution_count": 22,
   "id": "75e966d3",
   "metadata": {},
   "outputs": [
    {
     "data": {
      "text/plain": [
       "0"
      ]
     },
     "execution_count": 22,
     "metadata": {},
     "output_type": "execute_result"
    }
   ],
   "source": [
    "g.seek(0)"
   ]
  },
  {
   "cell_type": "code",
   "execution_count": 23,
   "id": "725130f1",
   "metadata": {},
   "outputs": [
    {
     "data": {
      "text/plain": [
       "'We created text2 fileThis is my second sen.'"
      ]
     },
     "execution_count": 23,
     "metadata": {},
     "output_type": "execute_result"
    }
   ],
   "source": [
    "g.read()"
   ]
  },
  {
   "cell_type": "code",
   "execution_count": 24,
   "id": "4629ee14",
   "metadata": {},
   "outputs": [
    {
     "data": {
      "text/plain": [
       "0"
      ]
     },
     "execution_count": 24,
     "metadata": {},
     "output_type": "execute_result"
    }
   ],
   "source": [
    "g.seek(0)"
   ]
  },
  {
   "cell_type": "code",
   "execution_count": 25,
   "id": "3ea0ace0",
   "metadata": {},
   "outputs": [
    {
     "data": {
      "text/plain": [
       "20"
      ]
     },
     "execution_count": 25,
     "metadata": {},
     "output_type": "execute_result"
    }
   ],
   "source": [
    "g.write('This is my 3rd sent.')"
   ]
  },
  {
   "cell_type": "code",
   "execution_count": 26,
   "id": "d22ee16e",
   "metadata": {},
   "outputs": [
    {
     "data": {
      "text/plain": [
       "'eThis is my second sen.'"
      ]
     },
     "execution_count": 26,
     "metadata": {},
     "output_type": "execute_result"
    }
   ],
   "source": [
    "g.read()"
   ]
  },
  {
   "cell_type": "code",
   "execution_count": 27,
   "id": "1ca1d1c5",
   "metadata": {},
   "outputs": [
    {
     "data": {
      "text/plain": [
       "0"
      ]
     },
     "execution_count": 27,
     "metadata": {},
     "output_type": "execute_result"
    }
   ],
   "source": [
    "g.seek(0)"
   ]
  },
  {
   "cell_type": "code",
   "execution_count": 28,
   "id": "718a7573",
   "metadata": {},
   "outputs": [
    {
     "data": {
      "text/plain": [
       "'This is my 3rd sent.eThis is my second sen.'"
      ]
     },
     "execution_count": 28,
     "metadata": {},
     "output_type": "execute_result"
    }
   ],
   "source": [
    "g.read()"
   ]
  },
  {
   "cell_type": "code",
   "execution_count": 29,
   "id": "ec30e441",
   "metadata": {},
   "outputs": [],
   "source": [
    "g.close()"
   ]
  },
  {
   "cell_type": "code",
   "execution_count": null,
   "id": "58dc25c5",
   "metadata": {},
   "outputs": [],
   "source": []
  }
 ],
 "metadata": {
  "kernelspec": {
   "display_name": "Python 3 (ipykernel)",
   "language": "python",
   "name": "python3"
  },
  "language_info": {
   "codemirror_mode": {
    "name": "ipython",
    "version": 3
   },
   "file_extension": ".py",
   "mimetype": "text/x-python",
   "name": "python",
   "nbconvert_exporter": "python",
   "pygments_lexer": "ipython3",
   "version": "3.11.5"
  }
 },
 "nbformat": 4,
 "nbformat_minor": 5
}
