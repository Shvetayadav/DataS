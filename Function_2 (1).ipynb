{
 "cells": [
  {
   "cell_type": "code",
   "execution_count": 1,
   "id": "01abf9e1",
   "metadata": {},
   "outputs": [],
   "source": [
    "def test(*args):\n",
    "    return args"
   ]
  },
  {
   "cell_type": "code",
   "execution_count": 3,
   "id": "a9fbd8f6",
   "metadata": {},
   "outputs": [
    {
     "data": {
      "text/plain": [
       "(1, 2, 3, 4, 5, 6, 7, 8, 'Data')"
      ]
     },
     "execution_count": 3,
     "metadata": {},
     "output_type": "execute_result"
    }
   ],
   "source": [
    "test(1,2,3,4,5,6,7,8,'Data')"
   ]
  },
  {
   "cell_type": "code",
   "execution_count": 4,
   "id": "8ef9f879",
   "metadata": {},
   "outputs": [],
   "source": [
    "def test2(a,*args):\n",
    "    return a, args"
   ]
  },
  {
   "cell_type": "code",
   "execution_count": 5,
   "id": "305d62f6",
   "metadata": {},
   "outputs": [
    {
     "data": {
      "text/plain": [
       "(1, (2, 3, 4, 5, 6, 7))"
      ]
     },
     "execution_count": 5,
     "metadata": {},
     "output_type": "execute_result"
    }
   ],
   "source": [
    "test2(1,2,3,4,5,6,7)"
   ]
  },
  {
   "cell_type": "code",
   "execution_count": 6,
   "id": "c0e49060",
   "metadata": {},
   "outputs": [],
   "source": [
    "def test3(*args, f):\n",
    "    return args , f"
   ]
  },
  {
   "cell_type": "code",
   "execution_count": 8,
   "id": "c5211f33",
   "metadata": {},
   "outputs": [
    {
     "data": {
      "text/plain": [
       "((11, 222, 3, 3, 545, 55), 1000)"
      ]
     },
     "execution_count": 8,
     "metadata": {},
     "output_type": "execute_result"
    }
   ],
   "source": [
    "test3(11,222,3,3,545,55,f=1000)"
   ]
  },
  {
   "cell_type": "code",
   "execution_count": 5,
   "id": "81fe6feb",
   "metadata": {},
   "outputs": [],
   "source": [
    "def test4(*args):\n",
    "    l = []          # Local list / Variable\n",
    "    for i in args:\n",
    "        if type(i) == list:\n",
    "            \n",
    "            l.append(i)\n",
    "    return l"
   ]
  },
  {
   "cell_type": "code",
   "execution_count": 6,
   "id": "f2766acd",
   "metadata": {},
   "outputs": [
    {
     "data": {
      "text/plain": [
       "[[11, 22, 33], [1, 2, 3, 4]]"
      ]
     },
     "execution_count": 6,
     "metadata": {},
     "output_type": "execute_result"
    }
   ],
   "source": [
    "test4(1,(1,2,3),[11,22,33],True,[1,2,3,4])"
   ]
  },
  {
   "cell_type": "code",
   "execution_count": 7,
   "id": "cb8953fc",
   "metadata": {},
   "outputs": [
    {
     "data": {
      "text/plain": [
       "[[1, 2, 3], ['Data', 'Science'], ['India', 'China']]"
      ]
     },
     "execution_count": 7,
     "metadata": {},
     "output_type": "execute_result"
    }
   ],
   "source": [
    "test4(1,[1,2,3],['Data','Science'],(1,2,3),['India','China'])"
   ]
  },
  {
   "cell_type": "code",
   "execution_count": 12,
   "id": "6e0506de",
   "metadata": {},
   "outputs": [],
   "source": [
    "g = [] # Global Variable"
   ]
  },
  {
   "cell_type": "code",
   "execution_count": null,
   "id": "82bfd8a9",
   "metadata": {},
   "outputs": [],
   "source": []
  },
  {
   "cell_type": "code",
   "execution_count": 10,
   "id": "f8210727",
   "metadata": {},
   "outputs": [
    {
     "data": {
      "text/plain": [
       "[]"
      ]
     },
     "execution_count": 10,
     "metadata": {},
     "output_type": "execute_result"
    }
   ],
   "source": [
    "g"
   ]
  },
  {
   "cell_type": "code",
   "execution_count": 13,
   "id": "476c798d",
   "metadata": {},
   "outputs": [
    {
     "ename": "NameError",
     "evalue": "name 'l' is not defined",
     "output_type": "error",
     "traceback": [
      "\u001b[1;31m---------------------------------------------------------------------------\u001b[0m",
      "\u001b[1;31mNameError\u001b[0m                                 Traceback (most recent call last)",
      "Cell \u001b[1;32mIn[13], line 1\u001b[0m\n\u001b[1;32m----> 1\u001b[0m l\n",
      "\u001b[1;31mNameError\u001b[0m: name 'l' is not defined"
     ]
    }
   ],
   "source": [
    "l"
   ]
  },
  {
   "cell_type": "code",
   "execution_count": 11,
   "id": "6ae3bc68",
   "metadata": {},
   "outputs": [],
   "source": [
    "def test5(*science):\n",
    "    k = []\n",
    "    for i in science:\n",
    "         k.append(i ** 2)\n",
    "    return k"
   ]
  },
  {
   "cell_type": "code",
   "execution_count": 12,
   "id": "43841e9d",
   "metadata": {},
   "outputs": [
    {
     "data": {
      "text/plain": [
       "[1, 4, 9, 16]"
      ]
     },
     "execution_count": 12,
     "metadata": {},
     "output_type": "execute_result"
    }
   ],
   "source": [
    "test5(1,2,3,4)"
   ]
  },
  {
   "cell_type": "code",
   "execution_count": 17,
   "id": "0b27ff13",
   "metadata": {},
   "outputs": [],
   "source": [
    "def test6(*args):\n",
    "    j = []\n",
    "    for i in args:\n",
    "        for letters in i:\n",
    "            j.append(letters)\n",
    "    return j"
   ]
  },
  {
   "cell_type": "code",
   "execution_count": 18,
   "id": "faf5047e",
   "metadata": {},
   "outputs": [
    {
     "data": {
      "text/plain": [
       "['D',\n",
       " 'a',\n",
       " 't',\n",
       " 'a',\n",
       " 'S',\n",
       " 'c',\n",
       " 'i',\n",
       " 'e',\n",
       " 'n',\n",
       " 'c',\n",
       " 'e',\n",
       " 'D',\n",
       " 'h',\n",
       " 'o',\n",
       " 'n',\n",
       " 'i']"
      ]
     },
     "execution_count": 18,
     "metadata": {},
     "output_type": "execute_result"
    }
   ],
   "source": [
    "test6('Data','Science','Dhoni')"
   ]
  },
  {
   "cell_type": "markdown",
   "id": "0f579bcc",
   "metadata": {},
   "source": [
    "# Kwargs"
   ]
  },
  {
   "cell_type": "code",
   "execution_count": 19,
   "id": "81977cf1",
   "metadata": {},
   "outputs": [],
   "source": [
    "def test7(**kwargs):\n",
    "    return kwargs"
   ]
  },
  {
   "cell_type": "code",
   "execution_count": 20,
   "id": "e43bce0e",
   "metadata": {},
   "outputs": [
    {
     "data": {
      "text/plain": [
       "{'a': 1, 'j': 5, 'name': 'Data', 'age': 23}"
      ]
     },
     "execution_count": 20,
     "metadata": {},
     "output_type": "execute_result"
    }
   ],
   "source": [
    "test7(a=1,j=5,name = 'Data',age=23)"
   ]
  },
  {
   "cell_type": "code",
   "execution_count": 24,
   "id": "5c04c268",
   "metadata": {},
   "outputs": [],
   "source": [
    "def test8(**kwargs):\n",
    "    return kwargs.keys()"
   ]
  },
  {
   "cell_type": "code",
   "execution_count": 25,
   "id": "bf461ef2",
   "metadata": {},
   "outputs": [
    {
     "data": {
      "text/plain": [
       "dict_keys(['Name', 'Sports', 'age', 'city'])"
      ]
     },
     "execution_count": 25,
     "metadata": {},
     "output_type": "execute_result"
    }
   ],
   "source": [
    "test8(Name='Dhoni',Sports='Cricket',age=45,city='ranchi')"
   ]
  },
  {
   "cell_type": "code",
   "execution_count": 26,
   "id": "a27cf905",
   "metadata": {},
   "outputs": [],
   "source": [
    "def test8(**kwargs):\n",
    "    return kwargs.values()"
   ]
  },
  {
   "cell_type": "code",
   "execution_count": 27,
   "id": "49ebf559",
   "metadata": {},
   "outputs": [
    {
     "data": {
      "text/plain": [
       "dict_values(['Dhoni', 'Cricket', 45, 'ranchi'])"
      ]
     },
     "execution_count": 27,
     "metadata": {},
     "output_type": "execute_result"
    }
   ],
   "source": [
    "test8(Name='Dhoni',Sports='Cricket',age=45,city='ranchi')"
   ]
  },
  {
   "cell_type": "code",
   "execution_count": 28,
   "id": "89526f3b",
   "metadata": {},
   "outputs": [],
   "source": [
    "def test9(*args,**kwargs):\n",
    "    return args , kwargs"
   ]
  },
  {
   "cell_type": "code",
   "execution_count": 29,
   "id": "5ae4f00f",
   "metadata": {},
   "outputs": [
    {
     "data": {
      "text/plain": [
       "((1, 2, 3, 4), {'a': 7, 'k': 8, 'o': 6})"
      ]
     },
     "execution_count": 29,
     "metadata": {},
     "output_type": "execute_result"
    }
   ],
   "source": [
    "test9(1,2,3,4,a=7,k=8,o=6)"
   ]
  },
  {
   "cell_type": "code",
   "execution_count": 30,
   "id": "7bbd5f04",
   "metadata": {},
   "outputs": [],
   "source": [
    "def test10(a,*args,**kwargs):\n",
    "    return a,args,kwargs"
   ]
  },
  {
   "cell_type": "code",
   "execution_count": 31,
   "id": "7f00fc2a",
   "metadata": {},
   "outputs": [
    {
     "data": {
      "text/plain": [
       "(1, (2, 3, 4, 5, 6), {'f': 5, 'r': 3, 'u': 8})"
      ]
     },
     "execution_count": 31,
     "metadata": {},
     "output_type": "execute_result"
    }
   ],
   "source": [
    "test10(1,2,3,4,5,6,f=5,r=3,u=8)"
   ]
  },
  {
   "cell_type": "code",
   "execution_count": 32,
   "id": "cbb3867b",
   "metadata": {},
   "outputs": [],
   "source": [
    "def test11(*args,d,**kwargs):\n",
    "    return args, d, kwargs"
   ]
  },
  {
   "cell_type": "code",
   "execution_count": 33,
   "id": "808e354a",
   "metadata": {},
   "outputs": [
    {
     "data": {
      "text/plain": [
       "((1, 3, 4, 5), 6, {'u': 8, 'i': 6, 'l': 9})"
      ]
     },
     "execution_count": 33,
     "metadata": {},
     "output_type": "execute_result"
    }
   ],
   "source": [
    "test11(1,3,4,5,d=6,u=8,i=6,l=9)"
   ]
  },
  {
   "cell_type": "code",
   "execution_count": null,
   "id": "6f13dd7f",
   "metadata": {},
   "outputs": [],
   "source": []
  }
 ],
 "metadata": {
  "kernelspec": {
   "display_name": "Python 3 (ipykernel)",
   "language": "python",
   "name": "python3"
  },
  "language_info": {
   "codemirror_mode": {
    "name": "ipython",
    "version": 3
   },
   "file_extension": ".py",
   "mimetype": "text/x-python",
   "name": "python",
   "nbconvert_exporter": "python",
   "pygments_lexer": "ipython3",
   "version": "3.11.5"
  }
 },
 "nbformat": 4,
 "nbformat_minor": 5
}
