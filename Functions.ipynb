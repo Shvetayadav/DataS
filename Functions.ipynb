{
 "cells": [
  {
   "cell_type": "code",
   "execution_count": 1,
   "id": "cd7dfa8d",
   "metadata": {},
   "outputs": [],
   "source": [
    "def test(a):\n",
    "    print(a)"
   ]
  },
  {
   "cell_type": "code",
   "execution_count": 2,
   "id": "4c745edf",
   "metadata": {},
   "outputs": [
    {
     "name": "stdout",
     "output_type": "stream",
     "text": [
      "100\n"
     ]
    }
   ],
   "source": [
    "test(100)"
   ]
  },
  {
   "cell_type": "code",
   "execution_count": 3,
   "id": "926c4b3f",
   "metadata": {},
   "outputs": [],
   "source": [
    "def test2(f):\n",
    "    return f"
   ]
  },
  {
   "cell_type": "code",
   "execution_count": 4,
   "id": "d972aeaf",
   "metadata": {},
   "outputs": [
    {
     "data": {
      "text/plain": [
       "4"
      ]
     },
     "execution_count": 4,
     "metadata": {},
     "output_type": "execute_result"
    }
   ],
   "source": [
    "test2(4)"
   ]
  },
  {
   "cell_type": "code",
   "execution_count": 5,
   "id": "cd182660",
   "metadata": {},
   "outputs": [
    {
     "name": "stdout",
     "output_type": "stream",
     "text": [
      "100\n"
     ]
    },
    {
     "data": {
      "text/plain": [
       "NoneType"
      ]
     },
     "execution_count": 5,
     "metadata": {},
     "output_type": "execute_result"
    }
   ],
   "source": [
    "type(test(100))"
   ]
  },
  {
   "cell_type": "code",
   "execution_count": 6,
   "id": "5ba4e398",
   "metadata": {},
   "outputs": [
    {
     "data": {
      "text/plain": [
       "int"
      ]
     },
     "execution_count": 6,
     "metadata": {},
     "output_type": "execute_result"
    }
   ],
   "source": [
    "type(test2(4))"
   ]
  },
  {
   "cell_type": "code",
   "execution_count": 9,
   "id": "a2617f01",
   "metadata": {},
   "outputs": [],
   "source": [
    "def test3(a):\n",
    "    for i in a:\n",
    "        return i"
   ]
  },
  {
   "cell_type": "code",
   "execution_count": 10,
   "id": "765891bb",
   "metadata": {},
   "outputs": [
    {
     "data": {
      "text/plain": [
       "1"
      ]
     },
     "execution_count": 10,
     "metadata": {},
     "output_type": "execute_result"
    }
   ],
   "source": [
    "test3([1,2,3,4,5])"
   ]
  },
  {
   "cell_type": "code",
   "execution_count": 11,
   "id": "2fee5832",
   "metadata": {},
   "outputs": [],
   "source": [
    "def test4(a,b):\n",
    "    return a + b"
   ]
  },
  {
   "cell_type": "code",
   "execution_count": 12,
   "id": "b7294fb9",
   "metadata": {},
   "outputs": [
    {
     "data": {
      "text/plain": [
       "15"
      ]
     },
     "execution_count": 12,
     "metadata": {},
     "output_type": "execute_result"
    }
   ],
   "source": [
    "test4(10,5)"
   ]
  },
  {
   "cell_type": "code",
   "execution_count": 14,
   "id": "c9855918",
   "metadata": {},
   "outputs": [],
   "source": [
    "def test5(*args):\n",
    "    return args"
   ]
  },
  {
   "cell_type": "code",
   "execution_count": 15,
   "id": "f84cd61c",
   "metadata": {},
   "outputs": [
    {
     "data": {
      "text/plain": [
       "(1, 2, 3, 4, 5, 6, 7, 'Data', (8+9j), True)"
      ]
     },
     "execution_count": 15,
     "metadata": {},
     "output_type": "execute_result"
    }
   ],
   "source": [
    "test5(1,2,3,4,5,6,7,'Data',8+9j,True)"
   ]
  },
  {
   "cell_type": "code",
   "execution_count": 22,
   "id": "80124120",
   "metadata": {},
   "outputs": [],
   "source": [
    "def test6(a):\n",
    "    if a%2 == 0:\n",
    "        return 'Even number'\n",
    "    else:\n",
    "        return 'Odd Number'"
   ]
  },
  {
   "cell_type": "code",
   "execution_count": 23,
   "id": "d240b136",
   "metadata": {},
   "outputs": [
    {
     "data": {
      "text/plain": [
       "'Even number'"
      ]
     },
     "execution_count": 23,
     "metadata": {},
     "output_type": "execute_result"
    }
   ],
   "source": [
    "test6(2)"
   ]
  },
  {
   "cell_type": "code",
   "execution_count": 25,
   "id": "5d7603fe",
   "metadata": {},
   "outputs": [
    {
     "data": {
      "text/plain": [
       "'Odd Number'"
      ]
     },
     "execution_count": 25,
     "metadata": {},
     "output_type": "execute_result"
    }
   ],
   "source": [
    "test6(5)"
   ]
  },
  {
   "cell_type": "raw",
   "id": "2017a103",
   "metadata": {},
   "source": [
    "You have to create function for\n",
    "1. Addition of numbers a,b\n",
    "2.  Multiplication of number a,b\n",
    "3. Division of number a,b\n",
    "4. if your number is divisble by two simply print yes otherwise print no. Create function for it\n",
    "5. Check that mod of two numbers is 0 or not."
   ]
  },
  {
   "cell_type": "code",
   "execution_count": null,
   "id": "9599e065",
   "metadata": {},
   "outputs": [],
   "source": []
  }
 ],
 "metadata": {
  "kernelspec": {
   "display_name": "Python 3 (ipykernel)",
   "language": "python",
   "name": "python3"
  },
  "language_info": {
   "codemirror_mode": {
    "name": "ipython",
    "version": 3
   },
   "file_extension": ".py",
   "mimetype": "text/x-python",
   "name": "python",
   "nbconvert_exporter": "python",
   "pygments_lexer": "ipython3",
   "version": "3.11.5"
  }
 },
 "nbformat": 4,
 "nbformat_minor": 5
}
