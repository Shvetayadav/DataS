{
 "cells": [
  {
   "cell_type": "code",
   "execution_count": 1,
   "id": "7b645723",
   "metadata": {},
   "outputs": [
    {
     "name": "stdout",
     "output_type": "stream",
     "text": [
      "0\n",
      "1\n",
      "2\n",
      "3\n",
      "4\n"
     ]
    }
   ],
   "source": [
    "for i in range(5):\n",
    "    print(i)"
   ]
  },
  {
   "cell_type": "markdown",
   "id": "58e56308",
   "metadata": {},
   "source": [
    "# Break"
   ]
  },
  {
   "cell_type": "markdown",
   "id": "6c78d047",
   "metadata": {},
   "source": [
    "The break statement is used to exit the current loop permaturly, Regerdless of whether the loop's\n",
    "condition is still true. It often to terminate a loop when a certain condition is met"
   ]
  },
  {
   "cell_type": "code",
   "execution_count": 3,
   "id": "d709814d",
   "metadata": {},
   "outputs": [
    {
     "name": "stdout",
     "output_type": "stream",
     "text": [
      "0\n",
      "1\n",
      "2\n"
     ]
    }
   ],
   "source": [
    "for i in range(5):\n",
    "    if i == 3:\n",
    "        break\n",
    "    print(i)"
   ]
  },
  {
   "cell_type": "code",
   "execution_count": 4,
   "id": "057e7eaa",
   "metadata": {},
   "outputs": [
    {
     "name": "stdout",
     "output_type": "stream",
     "text": [
      "0\n",
      "1\n",
      "2\n",
      "3\n"
     ]
    }
   ],
   "source": [
    "for i in range(6):\n",
    "    if i == 4:\n",
    "        break\n",
    "    print(i)"
   ]
  },
  {
   "cell_type": "code",
   "execution_count": 6,
   "id": "3609a0a8",
   "metadata": {},
   "outputs": [
    {
     "name": "stdout",
     "output_type": "stream",
     "text": [
      "d\n",
      "a\n",
      "t\n",
      "a\n",
      "c\n"
     ]
    }
   ],
   "source": [
    "for i in 'datacouncil':\n",
    "    if i == 'o':\n",
    "        break\n",
    "    print(i)"
   ]
  },
  {
   "cell_type": "markdown",
   "id": "41a02962",
   "metadata": {},
   "source": [
    "# Continue"
   ]
  },
  {
   "cell_type": "markdown",
   "id": "ab94b242",
   "metadata": {},
   "source": [
    "The continue statement is used o skip the rest of the current iteration of a loop\n",
    "and move to the next iteration. It is typically used when you want to skip\n",
    "some specefic element or action within loop"
   ]
  },
  {
   "cell_type": "code",
   "execution_count": 7,
   "id": "246f5e88",
   "metadata": {},
   "outputs": [
    {
     "name": "stdout",
     "output_type": "stream",
     "text": [
      "0\n",
      "1\n",
      "2\n",
      "4\n"
     ]
    }
   ],
   "source": [
    "for i in range(5):\n",
    "    if i == 3:\n",
    "        continue\n",
    "    print(i)"
   ]
  },
  {
   "cell_type": "code",
   "execution_count": 8,
   "id": "0b59d1b9",
   "metadata": {
    "scrolled": true
   },
   "outputs": [
    {
     "name": "stdout",
     "output_type": "stream",
     "text": [
      "d\n",
      "a\n",
      "t\n",
      "a\n",
      "c\n",
      "u\n",
      "n\n",
      "c\n",
      "i\n",
      "l\n"
     ]
    }
   ],
   "source": [
    "for i in 'datacouncil':\n",
    "    if i == 'o':\n",
    "        continue\n",
    "    print(i)"
   ]
  },
  {
   "cell_type": "markdown",
   "id": "ad6db61b",
   "metadata": {},
   "source": [
    "# Pass"
   ]
  },
  {
   "cell_type": "markdown",
   "id": "1b0a0182",
   "metadata": {},
   "source": [
    "The pass statement is null operation or no-op: It is often used as a \n",
    "placeholder when you need a statement for syantitically reason but dont\n",
    "wont it to do anything. Its commonly used when you are defining empty\n",
    "classes, functions, or conditional block."
   ]
  },
  {
   "cell_type": "code",
   "execution_count": 14,
   "id": "7dba4d12",
   "metadata": {},
   "outputs": [
    {
     "name": "stdout",
     "output_type": "stream",
     "text": [
      "0\n",
      "1\n",
      "3\n",
      "4\n"
     ]
    }
   ],
   "source": [
    "for i in range(5):\n",
    "    if i == 2:\n",
    "        pass  # Do nothing\n",
    "    else:\n",
    "        print(i)"
   ]
  },
  {
   "cell_type": "code",
   "execution_count": 15,
   "id": "d2396a99",
   "metadata": {},
   "outputs": [],
   "source": [
    "numbers = [1,2,3,4,5,6,7,8,9]"
   ]
  },
  {
   "cell_type": "code",
   "execution_count": 17,
   "id": "df7ef0e2",
   "metadata": {},
   "outputs": [
    {
     "name": "stdout",
     "output_type": "stream",
     "text": [
      "Odd numbers 1\n",
      "Odd numbers 3\n",
      "Odd numbers 5\n",
      "Odd numbers 7\n",
      "Odd numbers 9\n"
     ]
    }
   ],
   "source": [
    "for i in numbers:\n",
    "    if i % 2 == 0:\n",
    "        continue # Skip \n",
    "        \n",
    "    print('Odd numbers',i)"
   ]
  },
  {
   "cell_type": "code",
   "execution_count": 19,
   "id": "877d3e66",
   "metadata": {},
   "outputs": [
    {
     "name": "stdout",
     "output_type": "stream",
     "text": [
      "Even numbers 2\n",
      "Even numbers 4\n",
      "Even numbers 6\n",
      "Even numbers 8\n"
     ]
    }
   ],
   "source": [
    "for i in numbers:\n",
    "    if i % 2 != 0:\n",
    "        continue # Skip \n",
    "        \n",
    "    print('Even numbers',i)"
   ]
  },
  {
   "cell_type": "code",
   "execution_count": null,
   "id": "bbd27f9e",
   "metadata": {},
   "outputs": [],
   "source": []
  }
 ],
 "metadata": {
  "kernelspec": {
   "display_name": "Python 3 (ipykernel)",
   "language": "python",
   "name": "python3"
  },
  "language_info": {
   "codemirror_mode": {
    "name": "ipython",
    "version": 3
   },
   "file_extension": ".py",
   "mimetype": "text/x-python",
   "name": "python",
   "nbconvert_exporter": "python",
   "pygments_lexer": "ipython3",
   "version": "3.11.5"
  }
 },
 "nbformat": 4,
 "nbformat_minor": 5
}
